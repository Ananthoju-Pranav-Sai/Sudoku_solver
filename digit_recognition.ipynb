{
 "cells": [
  {
   "cell_type": "code",
   "execution_count": 1,
   "id": "130c4df0",
   "metadata": {},
   "outputs": [],
   "source": [
    "import torch\n",
    "import numpy as np\n",
    "import torch.nn as nn\n",
    "import torch.nn.functional as F\n",
    "import torchvision.transforms as T\n",
    "from matplotlib import pyplot as plt\n",
    "from torch.utils.data import DataLoader,Dataset\n",
    "from torch import optim\n",
    "import glob\n",
    "import random\n",
    "from PIL import Image"
   ]
  },
  {
   "cell_type": "code",
   "execution_count": 2,
   "id": "598eb8a2",
   "metadata": {},
   "outputs": [
    {
     "name": "stdout",
     "output_type": "stream",
     "text": [
      "cuda:0\n"
     ]
    }
   ],
   "source": [
    "device = torch.device(\"cuda:0\" if torch.cuda.is_available() else \"cpu\")\n",
    "print(device)"
   ]
  },
  {
   "cell_type": "code",
   "execution_count": 3,
   "id": "e0700c3b",
   "metadata": {},
   "outputs": [
    {
     "name": "stdout",
     "output_type": "stream",
     "text": [
      "{'5': 5, '2': 2, '7': 7, '9': 9, '3': 3, '6': 6, '4': 4, '8': 8, '1': 1, '0': 0}\n"
     ]
    }
   ],
   "source": [
    "# maps image pixels from [0,1] to [-1,1]\n",
    "Transform=T.Compose([T.Grayscale(),T.Resize(28),T.ToTensor(),T.Normalize((0.5),(0.5))])\n",
    "\n",
    "train_data_path = 'training_data'\n",
    "labels = set()\n",
    "train_image_paths = []\n",
    "for data_path in glob.glob(train_data_path+'/*'):\n",
    "    labels.add(data_path.split('/')[1])\n",
    "    train_image_paths.append(glob.glob(data_path+'/*'))\n",
    "\n",
    "train_image_paths = [item for sublist in train_image_paths for item in sublist]\n",
    "random.shuffle(train_image_paths)\n",
    "idx_to_class = {int(j):j for j in labels}\n",
    "class_to_idx = {value:key for key,value in idx_to_class.items()}\n",
    "print(class_to_idx)"
   ]
  },
  {
   "cell_type": "code",
   "execution_count": 4,
   "id": "aee821b8",
   "metadata": {},
   "outputs": [],
   "source": [
    "class printed_number_dataset(Dataset):\n",
    "\n",
    "    def __init__(self, image_paths, transform=False):\n",
    "        self.image_paths = image_paths\n",
    "        self.transform = transform\n",
    "        \n",
    "    def __len__(self):\n",
    "        return len(self.image_paths)\n",
    "\n",
    "    def __getitem__(self, idx):\n",
    "        image_filepath = self.image_paths[idx]\n",
    "        image = cv2.imread(image_filepath)  \n",
    "        image = cv2.cvtColor(image, cv2.COLOR_BGR2GRAY)\n",
    "        image = Image.fromarray(image)  \n",
    "        label = image_filepath.split('/')[-2]\n",
    "        label = class_to_idx[label]\n",
    "        if self.transform is not None:\n",
    "            image = self.transform(image)\n",
    "        \n",
    "        return image,label"
   ]
  },
  {
   "cell_type": "code",
   "execution_count": 5,
   "id": "13bc1422",
   "metadata": {},
   "outputs": [],
   "source": [
    "train_dataset = printed_number_dataset(train_image_paths,Transform)"
   ]
  },
  {
   "cell_type": "code",
   "execution_count": 6,
   "id": "7f38e5f3",
   "metadata": {},
   "outputs": [],
   "source": [
    "import copy,cv2\n",
    "def visualize_augmentations(dataset, idx=0, samples=10, cols=5, random_img = False):\n",
    "    \n",
    "    dataset = copy.deepcopy(dataset)\n",
    "    dataset.transform = T.Compose([T.Grayscale(),T.Resize(28)])\n",
    "    rows = samples // cols\n",
    "    \n",
    "        \n",
    "    figure, ax = plt.subplots(nrows=rows, ncols=cols, figsize=(12, 8))\n",
    "    for i in range(samples):\n",
    "        if random_img:\n",
    "            idx = np.random.randint(1,len(train_image_paths))\n",
    "        image, lab = dataset[idx]\n",
    "        ax.ravel()[i].imshow(image,'gray')\n",
    "        ax.ravel()[i].set_axis_off()\n",
    "        ax.ravel()[i].set_title(idx_to_class[lab])\n",
    "    plt.tight_layout(pad=1)\n",
    "    plt.show()  "
   ]
  },
  {
   "cell_type": "code",
   "execution_count": 7,
   "id": "28bffdab",
   "metadata": {},
   "outputs": [
    {
     "data": {
      "image/png": "[encoded data removed]",
      "text/plain": [
       "<Figure size 864x576 with 10 Axes>"
      ]
     },
     "metadata": {
      "needs_background": "light"
     },
     "output_type": "display_data"
    }
   ],
   "source": [
    "visualize_augmentations(train_dataset,np.random.randint(1,len(train_image_paths)), random_img = True)"
   ]
  },
  {
   "cell_type": "code",
   "execution_count": 8,
   "id": "cf64480c",
   "metadata": {},
   "outputs": [],
   "source": [
    "train_loader = DataLoader(train_dataset,64,shuffle=True)"
   ]
  },
  {
   "cell_type": "code",
   "execution_count": 39,
   "id": "1cef8074",
   "metadata": {},
   "outputs": [],
   "source": [
    "import torch.nn as nn\n",
    "\n",
    "class CNN(nn.Module):\n",
    "    def __init__(self):\n",
    "        super(CNN, self).__init__()        \n",
    "        self.conv1 = nn.Sequential(         \n",
    "            nn.Conv2d(\n",
    "                in_channels=1,              \n",
    "                out_channels=16,            \n",
    "                kernel_size=5,              \n",
    "                stride=1,                   \n",
    "                padding=2,                  \n",
    "            ),                              \n",
    "            nn.ReLU(),                      \n",
    "            nn.MaxPool2d(kernel_size=2),    \n",
    "        )\n",
    "        self.conv2 = nn.Sequential(         \n",
    "            nn.Conv2d(16, 32, 5, 1, 2),     \n",
    "            nn.ReLU(),                      \n",
    "            nn.MaxPool2d(2),                \n",
    "        )        # fully connected layer, output 10 classes\n",
    "        self.conv3 = nn.Sequential(\n",
    "            nn.Conv2d(32,48,5,1,2), \n",
    "            nn.ReLU(),\n",
    "            nn.MaxPool2d(2)\n",
    "        )\n",
    "        self.conv4 = nn.Sequential(\n",
    "            nn.Conv2d(48,64,5,1,2), \n",
    "            nn.ReLU(),\n",
    "            nn.MaxPool2d(2)\n",
    "        )\n",
    "        self.out = nn.Linear(64, 10)    \n",
    "    def forward(self, x):\n",
    "        x = self.conv1(x)\n",
    "        x = self.conv2(x)        \n",
    "        x = self.conv3(x)\n",
    "        x = self.conv4(x)\n",
    "        x = x.view(x.size(0), -1)       \n",
    "        output = self.out(x)\n",
    "        return output, x    # return x for visualization"
   ]
  },
  {
   "cell_type": "code",
   "execution_count": 40,
   "id": "8b45baba",
   "metadata": {
    "scrolled": true
   },
   "outputs": [],
   "source": [
    "cnn = CNN()\n",
    "loss_func = nn.CrossEntropyLoss()\n",
    "optimizer = optim.Adam(cnn.parameters(),lr=0.01)"
   ]
  },
  {
   "cell_type": "code",
   "execution_count": 41,
   "id": "c4d279ea",
   "metadata": {},
   "outputs": [
    {
     "name": "stdout",
     "output_type": "stream",
     "text": [
      "Epoch [1/5], Step [100/646], Loss: 0.5243\n",
      "Epoch [1/5], Step [200/646], Loss: 0.2353\n",
      "Epoch [1/5], Step [300/646], Loss: 0.1627\n",
      "Epoch [1/5], Step [400/646], Loss: 0.1023\n",
      "Epoch [1/5], Step [500/646], Loss: 0.1575\n",
      "Epoch [1/5], Step [600/646], Loss: 0.1677\n",
      "Epoch [2/5], Step [100/646], Loss: 0.2216\n",
      "Epoch [2/5], Step [200/646], Loss: 0.0665\n",
      "Epoch [2/5], Step [300/646], Loss: 0.1270\n",
      "Epoch [2/5], Step [400/646], Loss: 0.2180\n",
      "Epoch [2/5], Step [500/646], Loss: 0.1363\n",
      "Epoch [2/5], Step [600/646], Loss: 0.2026\n",
      "Epoch [3/5], Step [100/646], Loss: 0.2725\n",
      "Epoch [3/5], Step [200/646], Loss: 0.1143\n",
      "Epoch [3/5], Step [300/646], Loss: 0.3985\n",
      "Epoch [3/5], Step [400/646], Loss: 0.0469\n",
      "Epoch [3/5], Step [500/646], Loss: 0.1093\n",
      "Epoch [3/5], Step [600/646], Loss: 0.0330\n",
      "Epoch [4/5], Step [100/646], Loss: 0.0269\n",
      "Epoch [4/5], Step [200/646], Loss: 0.0365\n",
      "Epoch [4/5], Step [300/646], Loss: 0.3145\n",
      "Epoch [4/5], Step [400/646], Loss: 0.0741\n",
      "Epoch [4/5], Step [500/646], Loss: 0.2287\n",
      "Epoch [4/5], Step [600/646], Loss: 0.1509\n",
      "Epoch [5/5], Step [100/646], Loss: 0.0509\n",
      "Epoch [5/5], Step [200/646], Loss: 0.2406\n",
      "Epoch [5/5], Step [300/646], Loss: 0.0658\n",
      "Epoch [5/5], Step [400/646], Loss: 0.2586\n",
      "Epoch [5/5], Step [500/646], Loss: 0.0288\n",
      "Epoch [5/5], Step [600/646], Loss: 0.0747\n"
     ]
    }
   ],
   "source": [
    "from torch.autograd import Variable\n",
    "num_epochs = 5\n",
    "def train(num_epochs, cnn, loader):\n",
    "    \n",
    "    cnn.train()\n",
    "        \n",
    "    total_step = len(loader)\n",
    "        \n",
    "    for epoch in range(num_epochs):\n",
    "        for i, (images, labels) in enumerate(loader):\n",
    "            \n",
    "            b_x = Variable(images)   \n",
    "            b_y = Variable(labels)   \n",
    "            output = cnn(b_x)[0]   \n",
    "\n",
    "            loss = loss_func(output, b_y)\n",
    " \n",
    "            optimizer.zero_grad()           \n",
    "            loss.backward()                       \n",
    "            optimizer.step()                \n",
    "            \n",
    "            if(i%100==99):\n",
    "                print ('Epoch [{}/{}], Step [{}/{}], Loss: {:.4f}' \n",
    "                        .format(epoch + 1, num_epochs, i + 1, total_step, loss.item()))               \n",
    "                pass\n",
    "        \n",
    "        pass\n",
    "    \n",
    "    \n",
    "    pass\n",
    "\n",
    "train(num_epochs, cnn, train_loader)"
   ]
  },
  {
   "cell_type": "code",
   "execution_count": 42,
   "id": "39445917",
   "metadata": {},
   "outputs": [],
   "source": [
    "torch.save(cnn.state_dict(),'model.pth')"
   ]
  },
  {
   "cell_type": "code",
   "execution_count": null,
   "id": "586ec7af",
   "metadata": {},
   "outputs": [],
   "source": []
  }
 ],
 "metadata": {
  "kernelspec": {
   "display_name": "Python 3 (ipykernel)",
   "language": "python",
   "name": "python3"
  },
  "language_info": {
   "codemirror_mode": {
    "name": "ipython",
    "version": 3
   },
   "file_extension": ".py",
   "mimetype": "text/x-python",
   "name": "python",
   "nbconvert_exporter": "python",
   "pygments_lexer": "ipython3",
   "version": "3.8.10"
  }
 },
 "nbformat": 4,
 "nbformat_minor": 5
}
