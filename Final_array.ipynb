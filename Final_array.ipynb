{
 "cells": [
  {
   "cell_type": "code",
   "execution_count": 43,
   "metadata": {},
   "outputs": [],
   "source": [
    "import torch\n",
    "from PIL import Image\n",
    "import numpy as np\n",
    "import glob\n",
    "import cv2\n",
    "from torchvision import transforms as T\n",
    "from matplotlib import pyplot as plt"
   ]
  },
  {
   "cell_type": "code",
   "execution_count": 44,
   "metadata": {},
   "outputs": [],
   "source": [
    "Transform=T.Compose([T.Grayscale(),T.Resize((28,28)),T.ToTensor(),T.Normalize((0.5),(0.5))])"
   ]
  },
  {
   "cell_type": "code",
   "execution_count": 45,
   "metadata": {},
   "outputs": [],
   "source": [
    "import torch.nn as nn\n",
    "\n",
    "class CNN(nn.Module):\n",
    "    def __init__(self):\n",
    "        super(CNN, self).__init__()        \n",
    "        self.conv1 = nn.Sequential(         \n",
    "            nn.Conv2d(\n",
    "                in_channels=1,              \n",
    "                out_channels=16,            \n",
    "                kernel_size=5,              \n",
    "                stride=1,                   \n",
    "                padding=2,                  \n",
    "            ),                              \n",
    "            nn.ReLU(),                      \n",
    "            nn.MaxPool2d(kernel_size=2),    \n",
    "        )\n",
    "        self.conv2 = nn.Sequential(         \n",
    "            nn.Conv2d(16, 32, 5, 1, 2),     \n",
    "            nn.ReLU(),                      \n",
    "            nn.MaxPool2d(2),                \n",
    "        )        # fully connected layer, output 10 classes\n",
    "        self.conv3 = nn.Sequential(\n",
    "            nn.Conv2d(32,48,5,1,2), \n",
    "            nn.ReLU(),\n",
    "            nn.MaxPool2d(2)\n",
    "        )\n",
    "        self.conv4 = nn.Sequential(\n",
    "            nn.Conv2d(48,64,5,1,2), \n",
    "            nn.ReLU(),\n",
    "            nn.MaxPool2d(2)\n",
    "        )\n",
    "        self.out = nn.Linear(64, 10)    \n",
    "    def forward(self, x):\n",
    "        x = self.conv1(x)\n",
    "        x = self.conv2(x)        \n",
    "        x = self.conv3(x)\n",
    "        x = self.conv4(x)\n",
    "        x = x.view(x.size(0), -1)       \n",
    "        output = self.out(x)\n",
    "        return output, x    # return x for visualization"
   ]
  },
  {
   "cell_type": "code",
   "execution_count": 46,
   "metadata": {},
   "outputs": [],
   "source": [
    "model = CNN()\n",
    "model.load_state_dict(torch.load('model.pth'))\n",
    "cells_path = 'cells'"
   ]
  },
  {
   "cell_type": "code",
   "execution_count": 47,
   "metadata": {},
   "outputs": [],
   "source": [
    "board=[]\n",
    "paths = []\n",
    "for data_path in glob.glob(cells_path+'/*'):\n",
    "    paths.append(data_path)\n",
    "\n",
    "paths = np.sort(paths)\n",
    "row=[]\n",
    "for data_path in paths:\n",
    "    img = cv2.imread(data_path)\n",
    "    img = cv2.cvtColor(img,cv2.COLOR_BGR2GRAY)\n",
    "    _,img = cv2.threshold(img,80,255,cv2.THRESH_BINARY_INV)\n",
    "    kernel = np.ones((3,3),np.uint8)\n",
    "    # cv2.imshow('image',img)\n",
    "    # cv2.waitKey(0)\n",
    "    f=1\n",
    "    if(cv2.countNonZero(img)<20):\n",
    "        row.append(0)\n",
    "        f=0\n",
    "    img = Image.fromarray(img)\n",
    "    img = Transform(img)\n",
    "    img = torch.transpose(img,0,2)\n",
    "    img = torch.transpose(img,0,1)\n",
    "    \n",
    "    if(f):\n",
    "        img = torch.reshape(img,(1,1,28,28))\n",
    "        with torch.no_grad():\n",
    "            out = model(img)\n",
    "            out = torch.max(out[0],dim=1)[1] \n",
    "        out = np.reshape(np.array(out),(1,))[0]\n",
    "        row.append(out)\n",
    "    if(np.size(row)==9):\n",
    "        board.append(row)\n",
    "        row=[]\n",
    "cv2.destroyAllWindows()"
   ]
  },
  {
   "cell_type": "code",
   "execution_count": 48,
   "metadata": {},
   "outputs": [
    {
     "data": {
      "text/plain": [
       "[[8, 1, 1, 1, 1, 1, 1, 1, 1],\n",
       " [1, 5, 0, 8, 1, 1, 1, 1, 1],\n",
       " [1, 1, 1, 1, 4, 1, 1, 0, 1],\n",
       " [0, 6, 0, 1, 4, 1, 0, 8, 0],\n",
       " [5, 1, 8, 1, 6, 0, 1, 0, 0],\n",
       " [0, 1, 0, 5, 1, 2, 1, 4, 1],\n",
       " [1, 1, 7, 1, 4, 1, 6, 1, 0],\n",
       " [1, 8, 1, 3, 1, 9, 0, 4, 1],\n",
       " [3, 1, 0, 1, 5, 1, 1, 1, 1]]"
      ]
     },
     "execution_count": 48,
     "metadata": {},
     "output_type": "execute_result"
    }
   ],
   "source": [
    "board"
   ]
  }
 ],
 "metadata": {
  "interpreter": {
   "hash": "916dbcbb3f70747c44a77c7bcd40155683ae19c65e1c03b4aa3499c5328201f1"
  },
  "kernelspec": {
   "display_name": "Python 3.8.10 64-bit",
   "language": "python",
   "name": "python3"
  },
  "language_info": {
   "codemirror_mode": {
    "name": "ipython",
    "version": 3
   },
   "file_extension": ".py",
   "mimetype": "text/x-python",
   "name": "python",
   "nbconvert_exporter": "python",
   "pygments_lexer": "ipython3",
   "version": "3.8.10"
  },
  "orig_nbformat": 4
 },
 "nbformat": 4,
 "nbformat_minor": 2
}
